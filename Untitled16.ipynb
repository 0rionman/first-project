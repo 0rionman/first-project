{
 "cells": [
  {
   "cell_type": "code",
   "execution_count": 10,
   "id": "8bd0d855-c1d3-413a-84da-1240b4b77a20",
   "metadata": {},
   "outputs": [
    {
     "ename": "AttributeError",
     "evalue": "'PolynomialFeatures' object has no attribute 'get_feature_names'",
     "output_type": "error",
     "traceback": [
      "\u001b[1;31m---------------------------------------------------------------------------\u001b[0m",
      "\u001b[1;31mAttributeError\u001b[0m                            Traceback (most recent call last)",
      "Cell \u001b[1;32mIn[10], line 30\u001b[0m\n\u001b[0;32m     27\u001b[0m X_test \u001b[38;5;241m=\u001b[39m poly\u001b[38;5;241m.\u001b[39mtransform(X_test)\n\u001b[0;32m     29\u001b[0m \u001b[38;5;66;03m# сохранение таблицы X_test с полиномиальными признаками до стандартизации\u001b[39;00m\n\u001b[1;32m---> 30\u001b[0m X_test_df \u001b[38;5;241m=\u001b[39m pd\u001b[38;5;241m.\u001b[39mDataFrame(X_test,columns \u001b[38;5;241m=\u001b[39m poly\u001b[38;5;241m.\u001b[39mget_feature_names())\n\u001b[0;32m     32\u001b[0m \u001b[38;5;66;03m# стандартизируем признаки\u001b[39;00m\n\u001b[0;32m     33\u001b[0m X_train_scalled \u001b[38;5;241m=\u001b[39m pd\u001b[38;5;241m.\u001b[39mDataFrame(scaler\u001b[38;5;241m.\u001b[39mfit_transform(X_train),columns \u001b[38;5;241m=\u001b[39m poly\u001b[38;5;241m.\u001b[39mget_feature_names())\n",
      "\u001b[1;31mAttributeError\u001b[0m: 'PolynomialFeatures' object has no attribute 'get_feature_names'"
     ]
    }
   ],
   "source": [
    "import pandas as pd\n",
    "from sklearn.linear_model import LogisticRegression\n",
    "from sklearn.model_selection import train_test_split\n",
    "from sklearn.preprocessing import StandardScaler, PolynomialFeatures\n",
    "from sklearn.metrics import accuracy_score\n",
    "from sklearn.feature_selection import SelectKBest\n",
    "\n",
    "RANDOM_STATE = 77\n",
    "scaler = StandardScaler()\n",
    "\n",
    "test_data = pd.read_csv('https://code.s3.yandex.net/datasets/orders_seafood_new.csv')\n",
    "data = pd.read_csv('https://code.s3.yandex.net/datasets/orders_seafood_test.csv')\n",
    "\n",
    "# объединяем исходный и новый датасеты\n",
    "all_data = pd.concat([data,test_data],axis=0)\n",
    "X = all_data.drop(columns=['target', 'client_id'])\n",
    "y = all_data['target']\n",
    "\n",
    "# делим данные на выборки\n",
    "X_train, X_test, y_train, y_test = \\\n",
    "train_test_split(X, y, test_size=0.25, random_state=RANDOM_STATE)\n",
    "\n",
    "# добавляем полиномиальные признаки\n",
    "poly = PolynomialFeatures(2)\n",
    "\n",
    "X_train = poly.fit_transform(X_train)\n",
    "X_test = poly.transform(X_test)\n",
    "\n",
    "# сохранение таблицы X_test с полиномиальными признаками до стандартизации\n",
    "X_test_df = pd.DataFrame(X_test,columns = poly.get_feature_names())\n",
    "\n",
    "# стандартизируем признаки\n",
    "X_train_scalled = pd.DataFrame(scaler.fit_transform(X_train),columns = poly.get_feature_names())\n",
    "X_test_scalled =  pd.DataFrame(scaler.transform(X_test),columns = poly.get_feature_names())\n",
    "\n",
    "# запускаем цикл, который обучит несколько моделей с разной силой регуляризации\n",
    "# итоговая выдача — таблица с информацией о C, точности и сэкономленных деньгах\n",
    "C_ = [0.1,0.4,0.5,0.6,0.7,0.8,1,2,5,10]\n",
    "for c in C_:\n",
    "    model = LogisticRegression(random_state=RANDOM_STATE, penalty='l1' , solver='saga', C=c)\n",
    "    model.fit(X_train_scalled, y_train)\n",
    "\n",
    "    acc1 = accuracy_score(y_test, model.predict(X_test_scalled))\n",
    "\n",
    "    predicts = X_test_df[['x3']].copy()\n",
    "    predicts['logreg'] = model.predict(X_test_scalled)\n",
    "    predicts['y_test'] = y_test.tolist()\n",
    "\n",
    "    TP = predicts[(predicts['logreg']==1)&(predicts['y_test']==1)]['x3'].sum()*0.7*0.8\n",
    "    FP = predicts[(predicts['logreg']==1)&(predicts['y_test']==0)]['x3'].sum()*0.2\n",
    "    \n",
    "    print(c, acc1, TP-FP)"
   ]
  },
  {
   "cell_type": "code",
   "execution_count": 8,
   "id": "da3d3a68-77a4-48f1-be0b-4379e9319569",
   "metadata": {},
   "outputs": [
    {
     "name": "stdout",
     "output_type": "stream",
     "text": [
      "0.6861702127659575\n"
     ]
    }
   ],
   "source": [
    "from sklearn.preprocessing import StandardScaler, PolynomialFeatures\n",
    "\n",
    "scaler = StandardScaler()\n",
    "\n",
    "# обучаем скейлер и стандартизируем выборки\n",
    "X_train_scalled = scaler.fit_transform(X_train)\n",
    "X_test_scalled = scaler.transform(X_test)\n",
    "\n",
    "# инициализируем и обучаем модель\n",
    "# считаем accuracy\n",
    "model = LogisticRegression(random_state=RANDOM_STATE)\n",
    "model.fit(X_train_scalled, y_train)\n",
    "acc0 = accuracy_score(y_test, model.predict(X_test_scalled))\n",
    "print(acc0) "
   ]
  },
  {
   "cell_type": "code",
   "execution_count": 7,
   "id": "5ffe0a14-1caa-4a7f-a23e-66e114eb2631",
   "metadata": {},
   "outputs": [
    {
     "ename": "AttributeError",
     "evalue": "'PolynomialFeatures' object has no attribute 'get_feature_names'",
     "output_type": "error",
     "traceback": [
      "\u001b[1;31m---------------------------------------------------------------------------\u001b[0m",
      "\u001b[1;31mAttributeError\u001b[0m                            Traceback (most recent call last)",
      "Cell \u001b[1;32mIn[7], line 7\u001b[0m\n\u001b[0;32m      4\u001b[0m X_test \u001b[38;5;241m=\u001b[39m poly\u001b[38;5;241m.\u001b[39mtransform(X_test)\n\u001b[0;32m      6\u001b[0m \u001b[38;5;66;03m# сохранение таблицы X_test с полиномиальными признаками до стандартизации\u001b[39;00m\n\u001b[1;32m----> 7\u001b[0m X_test_df \u001b[38;5;241m=\u001b[39m pd\u001b[38;5;241m.\u001b[39mDataFrame(X_test,columns \u001b[38;5;241m=\u001b[39m poly\u001b[38;5;241m.\u001b[39mget_feature_names())\n\u001b[0;32m      9\u001b[0m \u001b[38;5;66;03m# стандартизация\u001b[39;00m\n\u001b[0;32m     10\u001b[0m X_train_scalled \u001b[38;5;241m=\u001b[39m pd\u001b[38;5;241m.\u001b[39mDataFrame(scaler\u001b[38;5;241m.\u001b[39mfit_transform(X_train),columns \u001b[38;5;241m=\u001b[39m poly\u001b[38;5;241m.\u001b[39mget_feature_names())\n",
      "\u001b[1;31mAttributeError\u001b[0m: 'PolynomialFeatures' object has no attribute 'get_feature_names'"
     ]
    }
   ],
   "source": [
    "poly = PolynomialFeatures(2)\n",
    "\n",
    "X_train = poly.fit_transform(X_train)\n",
    "X_test = poly.transform(X_test)\n",
    "\n",
    "# сохранение таблицы X_test с полиномиальными признаками до стандартизации\n",
    "X_test_df = pd.DataFrame(X_test,columns = poly.get_feature_names())\n",
    "\n",
    "# стандартизация\n",
    "X_train_scalled = pd.DataFrame(scaler.fit_transform(X_train),columns = poly.get_feature_names())\n",
    "X_test_scalled =  pd.DataFrame(scaler.transform(X_test),columns = poly.get_feature_names())\n",
    "\n",
    "# инициализируем и обучаем модель\n",
    "# считаем accuracy\n",
    "model = LogisticRegression()\n",
    "model.fit(X_train_scalled, y_train)\n",
    "acc1 = accuracy_score(y_test, model.predict(X_test_scalled))\n",
    "print(acc1) "
   ]
  },
  {
   "cell_type": "code",
   "execution_count": 6,
   "id": "59421584-4640-430a-804e-f1a9185f69dc",
   "metadata": {},
   "outputs": [
    {
     "ename": "AttributeError",
     "evalue": "'PolynomialFeatures' object has no attribute 'get_feature_names'",
     "output_type": "error",
     "traceback": [
      "\u001b[1;31m---------------------------------------------------------------------------\u001b[0m",
      "\u001b[1;31mAttributeError\u001b[0m                            Traceback (most recent call last)",
      "Cell \u001b[1;32mIn[6], line 2\u001b[0m\n\u001b[0;32m      1\u001b[0m coefficients \u001b[38;5;241m=\u001b[39m model\u001b[38;5;241m.\u001b[39mcoef_[\u001b[38;5;241m0\u001b[39m]\n\u001b[1;32m----> 2\u001b[0m feature_importance \u001b[38;5;241m=\u001b[39m pd\u001b[38;5;241m.\u001b[39mDataFrame({\u001b[38;5;124m'\u001b[39m\u001b[38;5;124mFeature\u001b[39m\u001b[38;5;124m'\u001b[39m: poly\u001b[38;5;241m.\u001b[39mget_feature_names(), \u001b[38;5;124m'\u001b[39m\u001b[38;5;124mImportance\u001b[39m\u001b[38;5;124m'\u001b[39m: np\u001b[38;5;241m.\u001b[39mabs(coefficients)})\n\u001b[0;32m      3\u001b[0m feature_importance \u001b[38;5;241m=\u001b[39m feature_importance\u001b[38;5;241m.\u001b[39msort_values(\u001b[38;5;124m'\u001b[39m\u001b[38;5;124mImportance\u001b[39m\u001b[38;5;124m'\u001b[39m, ascending\u001b[38;5;241m=\u001b[39m\u001b[38;5;28;01mTrue\u001b[39;00m)\n\u001b[0;32m      4\u001b[0m feature_importance\u001b[38;5;241m.\u001b[39mplot(x\u001b[38;5;241m=\u001b[39m\u001b[38;5;124m'\u001b[39m\u001b[38;5;124mFeature\u001b[39m\u001b[38;5;124m'\u001b[39m, y\u001b[38;5;241m=\u001b[39m\u001b[38;5;124m'\u001b[39m\u001b[38;5;124mImportance\u001b[39m\u001b[38;5;124m'\u001b[39m, kind\u001b[38;5;241m=\u001b[39m\u001b[38;5;124m'\u001b[39m\u001b[38;5;124mbarh\u001b[39m\u001b[38;5;124m'\u001b[39m, figsize\u001b[38;5;241m=\u001b[39m(\u001b[38;5;241m10\u001b[39m, \u001b[38;5;241m6\u001b[39m))\n",
      "\u001b[1;31mAttributeError\u001b[0m: 'PolynomialFeatures' object has no attribute 'get_feature_names'"
     ]
    }
   ],
   "source": [
    "coefficients = model.coef_[0]\n",
    "feature_importance = pd.DataFrame({'Feature': poly.get_feature_names(), 'Importance': np.abs(coefficients)})\n",
    "feature_importance = feature_importance.sort_values('Importance', ascending=True)\n",
    "feature_importance.plot(x='Feature', y='Importance', kind='barh', figsize=(10, 6)) "
   ]
  },
  {
   "cell_type": "code",
   "execution_count": 5,
   "id": "2bbf303e-89ca-4228-b7b0-d02b9cde437d",
   "metadata": {},
   "outputs": [],
   "source": [
    "from sklearn.model_selection import train_test_split\n",
    "\n",
    "# объединяем данные\n",
    "all_data = pd.concat([data,test_data],axis=0)\n",
    "X = all_data.drop(columns=['target', 'client_id'])\n",
    "y = all_data['target']\n",
    "\n",
    "# делим датасет на выборки\n",
    "X_train, X_test, y_train, y_test = \\\n",
    "train_test_split(X, y, test_size=0.25, random_state=RANDOM_STATE) "
   ]
  },
  {
   "cell_type": "code",
   "execution_count": null,
   "id": "967373ad-9647-461e-81a2-2e2d56720399",
   "metadata": {},
   "outputs": [],
   "source": []
  }
 ],
 "metadata": {
  "kernelspec": {
   "display_name": "Python 3 (ipykernel)",
   "language": "python",
   "name": "python3"
  },
  "language_info": {
   "codemirror_mode": {
    "name": "ipython",
    "version": 3
   },
   "file_extension": ".py",
   "mimetype": "text/x-python",
   "name": "python",
   "nbconvert_exporter": "python",
   "pygments_lexer": "ipython3",
   "version": "3.11.7"
  }
 },
 "nbformat": 4,
 "nbformat_minor": 5
}
